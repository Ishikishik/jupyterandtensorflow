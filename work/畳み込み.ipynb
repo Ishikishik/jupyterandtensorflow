{
 "cells": [
  {
   "cell_type": "code",
   "execution_count": 3,
   "metadata": {},
   "outputs": [],
   "source": [
    "import cv2\n"
   ]
  },
  {
   "cell_type": "code",
   "execution_count": null,
   "metadata": {},
   "outputs": [
    {
     "ename": "ValueError",
     "evalue": "could not broadcast input array from shape (211,245,4) into shape (211,245,3)",
     "output_type": "error",
     "traceback": [
      "\u001b[0;31m---------------------------------------------------------------------------\u001b[0m",
      "\u001b[0;31mValueError\u001b[0m                                Traceback (most recent call last)",
      "Cell \u001b[0;32mIn[14], line 11\u001b[0m\n\u001b[1;32m      9\u001b[0m dy \u001b[38;5;241m=\u001b[39m \u001b[38;5;241m100\u001b[39m    \u001b[38;5;66;03m# 縦方向の移動距離\u001b[39;00m\n\u001b[1;32m     10\u001b[0m h, w \u001b[38;5;241m=\u001b[39m ebi_img\u001b[38;5;241m.\u001b[39mshape[:\u001b[38;5;241m2\u001b[39m]\n\u001b[0;32m---> 11\u001b[0m \u001b[43morig_img\u001b[49m\u001b[43m[\u001b[49m\u001b[43mdy\u001b[49m\u001b[43m:\u001b[49m\u001b[43mdy\u001b[49m\u001b[38;5;241;43m+\u001b[39;49m\u001b[43mh\u001b[49m\u001b[43m,\u001b[49m\u001b[43m \u001b[49m\u001b[43mdx\u001b[49m\u001b[43m:\u001b[49m\u001b[43mdx\u001b[49m\u001b[38;5;241;43m+\u001b[39;49m\u001b[43mw\u001b[49m\u001b[43m]\u001b[49m \u001b[38;5;241m=\u001b[39m ebi_img\n\u001b[1;32m     13\u001b[0m cv2\u001b[38;5;241m.\u001b[39mimwrite(\u001b[38;5;124m'\u001b[39m\u001b[38;5;124mimg.png\u001b[39m\u001b[38;5;124m'\u001b[39m,orig_img)\n",
      "\u001b[0;31mValueError\u001b[0m: could not broadcast input array from shape (211,245,4) into shape (211,245,3)"
     ]
    }
   ],
   "source": [
    "orig_img=cv2.imread('people.png')\n",
    "ebi_img=cv2.imread('akashima.png')\n",
    "\n",
    "# スケール（横方向、縦方向）を指定してリサイズ\n",
    "ebi_img = cv2.resize(ebi_img, None, None, 0.2, 0.2)\n",
    "print(ebi_img)\n",
    "\n",
    "dx = 100    # 横方向の移動距離\n",
    "dy = 100    # 縦方向の移動距離\n",
    "h, w = ebi_img.shape[:2]\n",
    "orig_img[dy:dy+h, dx:dx+w] = ebi_img\n",
    "\n",
    "cv2.imwrite('img.png',orig_img)\n",
    "\n"
   ]
  },
  {
   "cell_type": "code",
   "execution_count": 15,
   "metadata": {},
   "outputs": [
    {
     "name": "stderr",
     "output_type": "stream",
     "text": [
      "[ WARN:0@2166.655] global loadsave.cpp:241 findDecoder imread_('people.jpg'): can't open/read file: check file path/integrity\n"
     ]
    },
    {
     "ename": "TypeError",
     "evalue": "'NoneType' object is not subscriptable",
     "output_type": "error",
     "traceback": [
      "\u001b[0;31m---------------------------------------------------------------------------\u001b[0m",
      "\u001b[0;31mTypeError\u001b[0m                                 Traceback (most recent call last)",
      "Cell \u001b[0;32mIn[15], line 8\u001b[0m\n\u001b[1;32m      5\u001b[0m x1, y1, x2, y2 \u001b[38;5;241m=\u001b[39m \u001b[38;5;241m0\u001b[39m, \u001b[38;5;241m0\u001b[39m, png_image\u001b[38;5;241m.\u001b[39mshape[\u001b[38;5;241m1\u001b[39m], png_image\u001b[38;5;241m.\u001b[39mshape[\u001b[38;5;241m0\u001b[39m]\n\u001b[1;32m      7\u001b[0m \u001b[38;5;66;03m# 合成!\u001b[39;00m\n\u001b[0;32m----> 8\u001b[0m frame[y1:y2, x1:x2] \u001b[38;5;241m=\u001b[39m \u001b[43mframe\u001b[49m\u001b[43m[\u001b[49m\u001b[43my1\u001b[49m\u001b[43m:\u001b[49m\u001b[43my2\u001b[49m\u001b[43m,\u001b[49m\u001b[43m \u001b[49m\u001b[43mx1\u001b[49m\u001b[43m:\u001b[49m\u001b[43mx2\u001b[49m\u001b[43m]\u001b[49m \u001b[38;5;241m*\u001b[39m (\u001b[38;5;241m1\u001b[39m \u001b[38;5;241m-\u001b[39m png_image[:, :, \u001b[38;5;241m3\u001b[39m:] \u001b[38;5;241m/\u001b[39m \u001b[38;5;241m255\u001b[39m) \u001b[38;5;241m+\u001b[39m \\\n\u001b[1;32m      9\u001b[0m                       png_image[:, :, :\u001b[38;5;241m3\u001b[39m] \u001b[38;5;241m*\u001b[39m (png_image[:, :, \u001b[38;5;241m3\u001b[39m:] \u001b[38;5;241m/\u001b[39m \u001b[38;5;241m255\u001b[39m)\n",
      "\u001b[0;31mTypeError\u001b[0m: 'NoneType' object is not subscriptable"
     ]
    }
   ],
   "source": [
    "frame = cv2.imread(\"people.jpg\")\n",
    "png_image = cv2.imread(\"akashima.png\", cv2.IMREAD_UNCHANGED)  # アルファチャンネル込みで読み込む\n",
    "\n",
    "# 貼り付け先座標の設定。とりあえず左上に\n",
    "x1, y1, x2, y2 = 0, 0, png_image.shape[1], png_image.shape[0]\n",
    "\n",
    "# 合成!\n",
    "frame[y1:y2, x1:x2] = frame[y1:y2, x1:x2] * (1 - png_image[:, :, 3:] / 255) + \\\n",
    "                      png_image[:, :, :3] * (png_image[:, :, 3:] / 255)"
   ]
  }
 ],
 "metadata": {
  "kernelspec": {
   "display_name": "base",
   "language": "python",
   "name": "python3"
  },
  "language_info": {
   "codemirror_mode": {
    "name": "ipython",
    "version": 3
   },
   "file_extension": ".py",
   "mimetype": "text/x-python",
   "name": "python",
   "nbconvert_exporter": "python",
   "pygments_lexer": "ipython3",
   "version": "3.11.6"
  },
  "orig_nbformat": 2
 },
 "nbformat": 4,
 "nbformat_minor": 2
}
